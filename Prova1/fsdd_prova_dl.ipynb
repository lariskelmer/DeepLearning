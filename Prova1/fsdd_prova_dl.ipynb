{
 "cells": [
  {
   "cell_type": "code",
   "execution_count": null,
   "metadata": {},
   "outputs": [],
   "source": [
    "%pip install librosa\n",
    "%pip install tensorflow"
   ]
  },
  {
   "cell_type": "code",
   "execution_count": 238,
   "metadata": {},
   "outputs": [],
   "source": [
    "import librosa\n",
    "import os\n",
    "import requests\n",
    "import torch\n",
    "from torch.utils.data import Dataset, DataLoader\n",
    "import librosa.display\n",
    "import matplotlib.pyplot as plt\n",
    "import numpy as np\n",
    "import tensorflow as tf\n",
    "from tensorflow.keras import layers, models\n",
    "from sklearn.model_selection import train_test_split\n",
    "import pandas as pd\n",
    "from typing import Union\n",
    "from sklearn.metrics import confusion_matrix\n",
    "import seaborn as sns\n",
    "import shutil\n",
    "from tensorflow.keras.preprocessing import image\n",
    "from keras.callbacks import EarlyStopping\n"
   ]
  },
  {
   "cell_type": "code",
   "execution_count": 4,
   "metadata": {},
   "outputs": [],
   "source": [
    "LINK = 'https://github.com/Jakobovski/free-spoken-digit-dataset.git'\n",
    "FOLDER_AUDIOS = 'free-spoken-digit-dataset/recordings'\n",
    "LOCAL_DIR = r'C:\\Users\\larissa.silva\\Documents\\UFRN\\2023.2\\DL\\espectrogramas'"
   ]
  },
  {
   "cell_type": "markdown",
   "metadata": {},
   "source": [
    "### Getting and Transforming Data"
   ]
  },
  {
   "cell_type": "code",
   "execution_count": 4,
   "metadata": {},
   "outputs": [
    {
     "name": "stderr",
     "output_type": "stream",
     "text": [
      "fatal: destination path 'free-spoken-digit-dataset' already exists and is not an empty directory.\n"
     ]
    }
   ],
   "source": [
    "!git clone https://github.com/Jakobovski/free-spoken-digit-dataset.git\n",
    "\n",
    "def get_data(folder)->str:\n",
    "  \"\"\"\n",
    "    Função responsável por receber um caminho do link do github até a pasta\n",
    "    e devolver uma lista com os nomes dos arquivos de interesse e as respectivas\n",
    "    labels.\n",
    "    Args:\n",
    "      - folder(str): caminho da pasta com os arquivos desejados.\n",
    "    Return:\n",
    "      - file_names(list): lista com o nome dos arquivos.\n",
    "      - labels(list): lista com label de cada áudio, respeitando a ordem.\n",
    "  \"\"\"\n",
    "  # Listar os arquivos no diretório clonado\n",
    "  os.listdir(folder)\n",
    "\n",
    "  # Diretório onde os arquivos estão clonados\n",
    "  data_folder = folder\n",
    "\n",
    "  # Listar todos os arquivos no diretório\n",
    "  file_names = os.listdir(data_folder)\n",
    "\n",
    "  # Iterar sobre os arquivos\n",
    "  for file_name in file_names:\n",
    "      file_path = os.path.join(data_folder, file_name)\n",
    "      # Carregar o áudio com librosa ou realizar outras operações conforme necessário\n",
    "      audio, sr = librosa.load(file_path, duration=3, sr=22050)\n",
    "  # Capturar labels dos nomes dos arquivos e transformar em uma lista\n",
    "  labels = [int(file.split('_')[0]) for file in file_names]\n",
    "\n",
    "  return file_names, labels\n",
    "\n",
    "file_names, labels = get_data(FOLDER_AUDIOS)"
   ]
  },
  {
   "cell_type": "code",
   "execution_count": 5,
   "metadata": {},
   "outputs": [
    {
     "data": {
      "text/html": [
       "<div>\n",
       "<style scoped>\n",
       "    .dataframe tbody tr th:only-of-type {\n",
       "        vertical-align: middle;\n",
       "    }\n",
       "\n",
       "    .dataframe tbody tr th {\n",
       "        vertical-align: top;\n",
       "    }\n",
       "\n",
       "    .dataframe thead th {\n",
       "        text-align: right;\n",
       "    }\n",
       "</style>\n",
       "<table border=\"1\" class=\"dataframe\">\n",
       "  <thead>\n",
       "    <tr style=\"text-align: right;\">\n",
       "      <th></th>\n",
       "      <th>file_path</th>\n",
       "      <th>label</th>\n",
       "    </tr>\n",
       "  </thead>\n",
       "  <tbody>\n",
       "    <tr>\n",
       "      <th>0</th>\n",
       "      <td>0_george_0.wav</td>\n",
       "      <td>0</td>\n",
       "    </tr>\n",
       "    <tr>\n",
       "      <th>1</th>\n",
       "      <td>0_george_1.wav</td>\n",
       "      <td>0</td>\n",
       "    </tr>\n",
       "    <tr>\n",
       "      <th>2</th>\n",
       "      <td>0_george_10.wav</td>\n",
       "      <td>0</td>\n",
       "    </tr>\n",
       "    <tr>\n",
       "      <th>3</th>\n",
       "      <td>0_george_11.wav</td>\n",
       "      <td>0</td>\n",
       "    </tr>\n",
       "    <tr>\n",
       "      <th>4</th>\n",
       "      <td>0_george_12.wav</td>\n",
       "      <td>0</td>\n",
       "    </tr>\n",
       "  </tbody>\n",
       "</table>\n",
       "</div>"
      ],
      "text/plain": [
       "         file_path  label\n",
       "0   0_george_0.wav      0\n",
       "1   0_george_1.wav      0\n",
       "2  0_george_10.wav      0\n",
       "3  0_george_11.wav      0\n",
       "4  0_george_12.wav      0"
      ]
     },
     "execution_count": 5,
     "metadata": {},
     "output_type": "execute_result"
    }
   ],
   "source": [
    "df_FDD = pd.DataFrame({\n",
    "    'file_path': file_names,\n",
    "    'label': labels\n",
    "})\n",
    "\n",
    "df_FDD.head()"
   ]
  },
  {
   "cell_type": "markdown",
   "metadata": {},
   "source": [
    "#### Turning audio into spectograms"
   ]
  },
  {
   "cell_type": "code",
   "execution_count": null,
   "metadata": {},
   "outputs": [],
   "source": [
    "# Pasta para salvar os espectrogramas\n",
    "output_folder = \"espectrogramas\"\n",
    "os.makedirs(output_folder, exist_ok=True)\n",
    "\n",
    "# Listar todos os arquivos no diretório\n",
    "file_names = os.listdir(FOLDER_AUDIOS)\n",
    "\n",
    "# Iterar sobre os arquivos\n",
    "for file_name in file_names:\n",
    "    file_path = os.path.join(FOLDER_AUDIOS, file_name)\n",
    "    # Carregar o áudio com librosa\n",
    "    audio, sr = librosa.load(file_path, duration=3, sr=22050) # limitar a 0.5 segundos e usar conv2d\n",
    "\n",
    "    # Calcular o espectrograma\n",
    "    D = librosa.amplitude_to_db(np.abs(librosa.stft(audio)), ref=np.max)\n",
    "\n",
    "    # Plotar e salvar o espectrograma como imagem\n",
    "    plt.figure(figsize=(10, 4))\n",
    "    librosa.display.specshow(D, sr=sr, x_axis='time', y_axis='log')\n",
    "    plt.colorbar(format='%+2.0f dB')\n",
    "    plt.title('Espectrograma')\n",
    "    spec_path = os.path.join(output_folder, f\"{file_name.split('.')[0]}.png\")\n",
    "    plt.savefig(spec_path)\n",
    "    plt.close()"
   ]
  },
  {
   "cell_type": "markdown",
   "metadata": {},
   "source": [
    "#### Database's owner transformation functions"
   ]
  },
  {
   "cell_type": "code",
   "execution_count": null,
   "metadata": {},
   "outputs": [],
   "source": [
    "from __future__ import division, print_function\n",
    "import os\n",
    "from os import listdir\n",
    "from os.path import isfile, join\n",
    "\n",
    "from matplotlib import pyplot as plt\n",
    "import scipy.io.wavfile as wav\n",
    "\n",
    "\n",
    "def wav_to_spectrogram(audio_path, save_path, spectrogram_dimensions=(64, 64), noverlap=16, cmap='gray_r'):\n",
    "    \"\"\" Creates a spectrogram of a wav file.\n",
    "\n",
    "    :param audio_path: path of wav file\n",
    "    :param save_path:  path of spectrogram to save\n",
    "    :param spectrogram_dimensions: number of pixels the spectrogram should be. Defaults (64,64)\n",
    "    :param noverlap: See http://docs.scipy.org/doc/scipy/reference/generated/scipy.signal.spectrogram.html\n",
    "    :param cmap: the color scheme to use for the spectrogram. Defaults to 'gray_r'\n",
    "    :return:\n",
    "    \"\"\"\n",
    "\n",
    "    sample_rate, samples = wav.read(audio_path)\n",
    "\n",
    "    fig = plt.figure()\n",
    "    fig.set_size_inches((spectrogram_dimensions[0]/fig.get_dpi(), spectrogram_dimensions[1]/fig.get_dpi()))\n",
    "    ax = plt.Axes(fig, [0., 0., 1., 1.])\n",
    "    ax.set_axis_off()\n",
    "    fig.add_axes(ax)\n",
    "    ax.specgram(samples, cmap=cmap, Fs=2, noverlap=noverlap)\n",
    "    ax.xaxis.set_major_locator(plt.NullLocator())\n",
    "    ax.yaxis.set_major_locator(plt.NullLocator())\n",
    "    fig.savefig(save_path, bbox_inches=\"tight\", pad_inches=0)\n",
    "    \n",
    "def dir_to_spectrogram(audio_dir, spectrogram_dir, spectrogram_dimensions=(64, 64), noverlap=16, cmap='gray_r'):\n",
    "    \"\"\" Creates spectrograms of all the audio files in a dir\n",
    "\n",
    "    :param audio_dir: path of directory with audio files\n",
    "    :param spectrogram_dir: path to save spectrograms\n",
    "    :param spectrogram_dimensions: tuple specifying the dimensions in pixes of the created spectrogram. default:(64,64)\n",
    "    :param noverlap: See http://docs.scipy.org/doc/scipy/reference/generated/scipy.signal.spectrogram.html\n",
    "    :param cmap: the color scheme to use for the spectrogram. Defaults to 'gray_r'\n",
    "    :return:\n",
    "    \"\"\"\n",
    "    file_names = [f for f in listdir(audio_dir) if isfile(join(audio_dir, f)) and '.wav' in f]\n",
    "\n",
    "    for file_name in file_names:\n",
    "        print(file_name)\n",
    "        audio_path = audio_dir + file_name\n",
    "        spectogram_path = spectrogram_dir + file_name.replace('.wav', '.png')\n",
    "        wav_to_spectrogram(audio_path, spectogram_path, spectrogram_dimensions=spectrogram_dimensions, noverlap=noverlap, cmap=cmap)\n",
    "\n",
    "\n",
    "if __name__ == '__main__':\n",
    "    audio_dir = \"./recordings/\"\n",
    "    spectrogram_dir = \"./spectrograms/\"\n",
    "    dir_to_spectrogram(audio_dir, spectrogram_dir)"
   ]
  },
  {
   "cell_type": "markdown",
   "metadata": {},
   "source": [
    "#### Adding images path into DF"
   ]
  },
  {
   "cell_type": "code",
   "execution_count": 6,
   "metadata": {},
   "outputs": [],
   "source": [
    "images_path = []\n",
    "for path_img in os.listdir('./espectrogramas/'):\n",
    "    images_path.append(path_img)\n",
    "\n",
    "df_FDD['image_path'] = images_path"
   ]
  },
  {
   "cell_type": "markdown",
   "metadata": {},
   "source": [
    "#### Saving DF as CSV file"
   ]
  },
  {
   "cell_type": "code",
   "execution_count": 204,
   "metadata": {},
   "outputs": [],
   "source": [
    "df_FDD.to_csv('df_FDD.csv', index=False)"
   ]
  },
  {
   "cell_type": "code",
   "execution_count": 211,
   "metadata": {},
   "outputs": [
    {
     "data": {
      "text/html": [
       "<div>\n",
       "<style scoped>\n",
       "    .dataframe tbody tr th:only-of-type {\n",
       "        vertical-align: middle;\n",
       "    }\n",
       "\n",
       "    .dataframe tbody tr th {\n",
       "        vertical-align: top;\n",
       "    }\n",
       "\n",
       "    .dataframe thead th {\n",
       "        text-align: right;\n",
       "    }\n",
       "</style>\n",
       "<table border=\"1\" class=\"dataframe\">\n",
       "  <thead>\n",
       "    <tr style=\"text-align: right;\">\n",
       "      <th></th>\n",
       "      <th>file_path</th>\n",
       "      <th>label</th>\n",
       "      <th>image_path</th>\n",
       "    </tr>\n",
       "  </thead>\n",
       "  <tbody>\n",
       "    <tr>\n",
       "      <th>0</th>\n",
       "      <td>0_george_0.wav</td>\n",
       "      <td>0</td>\n",
       "      <td>0_george_0.png</td>\n",
       "    </tr>\n",
       "    <tr>\n",
       "      <th>1</th>\n",
       "      <td>0_george_1.wav</td>\n",
       "      <td>0</td>\n",
       "      <td>0_george_1.png</td>\n",
       "    </tr>\n",
       "    <tr>\n",
       "      <th>2</th>\n",
       "      <td>0_george_10.wav</td>\n",
       "      <td>0</td>\n",
       "      <td>0_george_10.png</td>\n",
       "    </tr>\n",
       "    <tr>\n",
       "      <th>3</th>\n",
       "      <td>0_george_11.wav</td>\n",
       "      <td>0</td>\n",
       "      <td>0_george_11.png</td>\n",
       "    </tr>\n",
       "    <tr>\n",
       "      <th>4</th>\n",
       "      <td>0_george_12.wav</td>\n",
       "      <td>0</td>\n",
       "      <td>0_george_12.png</td>\n",
       "    </tr>\n",
       "    <tr>\n",
       "      <th>...</th>\n",
       "      <td>...</td>\n",
       "      <td>...</td>\n",
       "      <td>...</td>\n",
       "    </tr>\n",
       "    <tr>\n",
       "      <th>2995</th>\n",
       "      <td>9_yweweler_5.wav</td>\n",
       "      <td>9</td>\n",
       "      <td>9_yweweler_5.png</td>\n",
       "    </tr>\n",
       "    <tr>\n",
       "      <th>2996</th>\n",
       "      <td>9_yweweler_6.wav</td>\n",
       "      <td>9</td>\n",
       "      <td>9_yweweler_6.png</td>\n",
       "    </tr>\n",
       "    <tr>\n",
       "      <th>2997</th>\n",
       "      <td>9_yweweler_7.wav</td>\n",
       "      <td>9</td>\n",
       "      <td>9_yweweler_7.png</td>\n",
       "    </tr>\n",
       "    <tr>\n",
       "      <th>2998</th>\n",
       "      <td>9_yweweler_8.wav</td>\n",
       "      <td>9</td>\n",
       "      <td>9_yweweler_8.png</td>\n",
       "    </tr>\n",
       "    <tr>\n",
       "      <th>2999</th>\n",
       "      <td>9_yweweler_9.wav</td>\n",
       "      <td>9</td>\n",
       "      <td>9_yweweler_9.png</td>\n",
       "    </tr>\n",
       "  </tbody>\n",
       "</table>\n",
       "<p>3000 rows × 3 columns</p>\n",
       "</div>"
      ],
      "text/plain": [
       "             file_path  label        image_path\n",
       "0       0_george_0.wav      0    0_george_0.png\n",
       "1       0_george_1.wav      0    0_george_1.png\n",
       "2      0_george_10.wav      0   0_george_10.png\n",
       "3      0_george_11.wav      0   0_george_11.png\n",
       "4      0_george_12.wav      0   0_george_12.png\n",
       "...                ...    ...               ...\n",
       "2995  9_yweweler_5.wav      9  9_yweweler_5.png\n",
       "2996  9_yweweler_6.wav      9  9_yweweler_6.png\n",
       "2997  9_yweweler_7.wav      9  9_yweweler_7.png\n",
       "2998  9_yweweler_8.wav      9  9_yweweler_8.png\n",
       "2999  9_yweweler_9.wav      9  9_yweweler_9.png\n",
       "\n",
       "[3000 rows x 3 columns]"
      ]
     },
     "execution_count": 211,
     "metadata": {},
     "output_type": "execute_result"
    }
   ],
   "source": [
    "df_FDD = pd.read_csv('df_FDD.csv')\n",
    "df_FDD.drop(columns=['Unnamed: 0'], axis = 1, inplace = True)\n",
    "df_FDD"
   ]
  },
  {
   "cell_type": "markdown",
   "metadata": {},
   "source": [
    "### Setting train, test and validation DFs"
   ]
  },
  {
   "cell_type": "code",
   "execution_count": 71,
   "metadata": {},
   "outputs": [],
   "source": [
    "train_df, test_df = train_test_split(df_FDD, test_size=0.2, random_state=52, stratify=df_FDD['label'])\n",
    "val_df, test_df = train_test_split(test_df, test_size=0.5, random_state=52, stratify=test_df['label'])"
   ]
  },
  {
   "cell_type": "markdown",
   "metadata": {},
   "source": [
    "##### Checking df's info"
   ]
  },
  {
   "cell_type": "code",
   "execution_count": null,
   "metadata": {},
   "outputs": [
    {
     "name": "stdout",
     "output_type": "stream",
     "text": [
      "<class 'pandas.core.frame.DataFrame'>\n",
      "Index: 2400 entries, 1847 to 950\n",
      "Data columns (total 3 columns):\n",
      " #   Column      Non-Null Count  Dtype \n",
      "---  ------      --------------  ----- \n",
      " 0   file_path   2400 non-null   object\n",
      " 1   label       2400 non-null   int64 \n",
      " 2   image_path  2400 non-null   object\n",
      "dtypes: int64(1), object(2)\n",
      "memory usage: 75.0+ KB\n"
     ]
    }
   ],
   "source": [
    "train_df.info()"
   ]
  },
  {
   "cell_type": "code",
   "execution_count": null,
   "metadata": {},
   "outputs": [
    {
     "name": "stdout",
     "output_type": "stream",
     "text": [
      "<class 'pandas.core.frame.DataFrame'>\n",
      "Index: 300 entries, 1321 to 2474\n",
      "Data columns (total 3 columns):\n",
      " #   Column      Non-Null Count  Dtype \n",
      "---  ------      --------------  ----- \n",
      " 0   file_path   300 non-null    object\n",
      " 1   label       300 non-null    int64 \n",
      " 2   image_path  300 non-null    object\n",
      "dtypes: int64(1), object(2)\n",
      "memory usage: 9.4+ KB\n"
     ]
    }
   ],
   "source": [
    "test_df.info()"
   ]
  },
  {
   "cell_type": "code",
   "execution_count": null,
   "metadata": {},
   "outputs": [
    {
     "name": "stdout",
     "output_type": "stream",
     "text": [
      "<class 'pandas.core.frame.DataFrame'>\n",
      "Index: 300 entries, 2795 to 1478\n",
      "Data columns (total 3 columns):\n",
      " #   Column      Non-Null Count  Dtype \n",
      "---  ------      --------------  ----- \n",
      " 0   file_path   300 non-null    object\n",
      " 1   label       300 non-null    int64 \n",
      " 2   image_path  300 non-null    object\n",
      "dtypes: int64(1), object(2)\n",
      "memory usage: 9.4+ KB\n"
     ]
    }
   ],
   "source": [
    "val_df.info()"
   ]
  },
  {
   "cell_type": "markdown",
   "metadata": {},
   "source": [
    "### Processing Dataset and Spliting it"
   ]
  },
  {
   "cell_type": "code",
   "execution_count": 231,
   "metadata": {},
   "outputs": [
    {
     "name": "stdout",
     "output_type": "stream",
     "text": [
      "Quantidade de arquivos de treino:  2400\n",
      "\n",
      "Quantidade de arquivos de teste:  300\n",
      "\n",
      "Quantidade de arquivos de validação:  300\n"
     ]
    }
   ],
   "source": [
    "def split_data(dataframe, source_dir, training_directory, val_dir, test_dir, train_df, test_df, val_df)->None:\n",
    "    \"\"\"\n",
    "        Função para dividir os dados em conjuntos de treinamento, validação e teste e copiar os arquivos correspondentes.\n",
    "\n",
    "        Args:\n",
    "            - dataframe(pd.DataFrame): DataFrame contendo informações sobre os dados, incluindo os caminhos dos arquivos.\n",
    "            - source_dir(str): Diretório de origem onde os arquivos estão localizados.\n",
    "            - training_directory(str): Diretório para armazenar os dados de treinamento.\n",
    "            - val_dir(str): Diretório para armazenar os dados de validação.\n",
    "            - test_dir(str): Diretório para armazenar os dados de teste.\n",
    "\n",
    "        Retorn:\n",
    "            - None.\n",
    "    \"\"\"\n",
    "    # Criar diretórios se não existirem\n",
    "    for directory in [training_directory, val_dir, test_dir]:\n",
    "        os.makedirs(directory, exist_ok=True)\n",
    "\n",
    "    # Corrigir barras invertidas nos caminhos dos arquivos\n",
    "    train_df['image_path'] = train_df['image_path'].str.replace('/', os.path.sep)\n",
    "    val_df['image_path'] = val_df['image_path'].str.replace('/', os.path.sep)\n",
    "    test_df['image_path'] = test_df['image_path'].str.replace('/', os.path.sep)\n",
    "\n",
    "    # Copiar os arquivos para os diretórios correspondentes\n",
    "    def copy_files(df, dest_dir):\n",
    "        for _, row in df.iterrows():\n",
    "            file_path = os.path.join(source_dir, row['image_path'].lstrip(os.path.sep))\n",
    "            dest_path = os.path.join(dest_dir, row['image_path'])\n",
    "            \n",
    "            try:\n",
    "                shutil.copyfile(file_path, dest_path)\n",
    "            except Exception as e:\n",
    "                print(f\"Erro ao copiar o arquivo: {e}\")\n",
    "\n",
    "\n",
    "    copy_files(train_df, training_directory)\n",
    "    copy_files(val_df, val_dir)\n",
    "    copy_files(test_df, test_dir)\n",
    "\n",
    "source_directory = \"./espectrogramas/\"\n",
    "training_directory = \"./training-spectrograms/\"\n",
    "validation_directory = \"./validation-spectrograms/\"\n",
    "testing_directory = \"./testing-spectrograms/\"\n",
    "\n",
    "split_data(df_FDD, source_directory, training_directory, validation_directory, testing_directory, train_df, test_df, val_df)\n",
    "\n",
    "print('Quantidade de arquivos de treino: ', len(os.listdir(training_directory)))\n",
    "print('\\nQuantidade de arquivos de teste: ', len(os.listdir(testing_directory)))\n",
    "print('\\nQuantidade de arquivos de validação: ', len(os.listdir(validation_directory)))\n"
   ]
  },
  {
   "cell_type": "code",
   "execution_count": 8,
   "metadata": {},
   "outputs": [],
   "source": [
    "# SEM MEMÓRIA PRA ESSA\n",
    "\n",
    "def load_data(dataframe)->Union[np.array, np.array]:\n",
    "    \"\"\"\n",
    "    Função responsável por receber um dataframe processa as imagens endereçadas\n",
    "        nele em np.arrays (representação matricial da imagem de forma numérica).\n",
    "    Args:\n",
    "      - dataframe(pd.DataFrame): DataFrame com os caminhos para as imagens e as \n",
    "        labels de cada imagem.\n",
    "    Return:\n",
    "      - np.array: np.array com as matrizes das imagens.\n",
    "      - np.array: np.array com as labels das imagens.\n",
    "  \"\"\"\n",
    "    images = []\n",
    "    labels = []\n",
    "    for _, row in dataframe.iterrows():\n",
    "        image = plt.imread(os.path.join(LOCAL_DIR, row['image_path']))\n",
    "        label = row['label']\n",
    "        images.append(image)\n",
    "        labels.append(label)\n",
    "    return np.array(images), np.array(labels)"
   ]
  },
  {
   "cell_type": "code",
   "execution_count": null,
   "metadata": {},
   "outputs": [],
   "source": [
    "# X_train, y_train = load_data(train_df)\n",
    "# X_val, y_val = load_data(val_df)\n",
    "# X_test, y_test = load_data(test_df)\n",
    "# X_train = X_train / 255.0\n",
    "# X_val = X_val / 255.0\n",
    "# X_test = X_test / 255.0"
   ]
  },
  {
   "cell_type": "code",
   "execution_count": 232,
   "metadata": {},
   "outputs": [
    {
     "name": "stdout",
     "output_type": "stream",
     "text": [
      "Processando imagens para o diretório C:\\Users\\larissa.silva\\Documents\\UFRN\\2023.2\\DL\\training-spectrograms...\n"
     ]
    },
    {
     "name": "stderr",
     "output_type": "stream",
     "text": [
      "  0%|          | 0/2400 [00:00<?, ?it/s]"
     ]
    },
    {
     "name": "stderr",
     "output_type": "stream",
     "text": [
      "100%|██████████| 2400/2400 [01:05<00:00, 36.44it/s]\n"
     ]
    },
    {
     "name": "stdout",
     "output_type": "stream",
     "text": [
      "Loaded 2400 images.\n",
      "Processando imagens para o diretório C:\\Users\\larissa.silva\\Documents\\UFRN\\2023.2\\DL\\training-spectrograms...\n"
     ]
    },
    {
     "name": "stderr",
     "output_type": "stream",
     "text": [
      "100%|██████████| 2400/2400 [01:04<00:00, 37.48it/s]\n"
     ]
    },
    {
     "name": "stdout",
     "output_type": "stream",
     "text": [
      "Loaded 2400 images.\n",
      "Processando imagens para o diretório C:\\Users\\larissa.silva\\Documents\\UFRN\\2023.2\\DL\\training-spectrograms...\n"
     ]
    },
    {
     "name": "stderr",
     "output_type": "stream",
     "text": [
      "100%|██████████| 2400/2400 [01:04<00:00, 37.18it/s]"
     ]
    },
    {
     "name": "stdout",
     "output_type": "stream",
     "text": [
      "Loaded 2400 images.\n",
      "Antes da divisão - X_train shape: (2400, 64, 64, 1)\n",
      "Antes da divisão - y_train shape: (2400,)\n",
      "Primerias imagens no conjunto de treinamento: [[[[1.]\n",
      "   [1.]\n",
      "   [1.]\n",
      "   ...\n",
      "   [1.]\n",
      "   [1.]\n",
      "   [1.]]\n",
      "\n",
      "  [[1.]\n",
      "   [1.]\n",
      "   [1.]\n",
      "   ...\n",
      "   [1.]\n",
      "   [1.]\n",
      "   [1.]]\n",
      "\n",
      "  [[1.]\n",
      "   [1.]\n",
      "   [1.]\n",
      "   ...\n",
      "   [1.]\n",
      "   [1.]\n",
      "   [1.]]\n",
      "\n",
      "  ...\n",
      "\n",
      "  [[1.]\n",
      "   [1.]\n",
      "   [1.]\n",
      "   ...\n",
      "   [1.]\n",
      "   [1.]\n",
      "   [1.]]\n",
      "\n",
      "  [[1.]\n",
      "   [1.]\n",
      "   [1.]\n",
      "   ...\n",
      "   [1.]\n",
      "   [1.]\n",
      "   [1.]]\n",
      "\n",
      "  [[1.]\n",
      "   [1.]\n",
      "   [1.]\n",
      "   ...\n",
      "   [1.]\n",
      "   [1.]\n",
      "   [1.]]]\n",
      "\n",
      "\n",
      " [[[1.]\n",
      "   [1.]\n",
      "   [1.]\n",
      "   ...\n",
      "   [1.]\n",
      "   [1.]\n",
      "   [1.]]\n",
      "\n",
      "  [[1.]\n",
      "   [1.]\n",
      "   [1.]\n",
      "   ...\n",
      "   [1.]\n",
      "   [1.]\n",
      "   [1.]]\n",
      "\n",
      "  [[1.]\n",
      "   [1.]\n",
      "   [1.]\n",
      "   ...\n",
      "   [1.]\n",
      "   [1.]\n",
      "   [1.]]\n",
      "\n",
      "  ...\n",
      "\n",
      "  [[1.]\n",
      "   [1.]\n",
      "   [1.]\n",
      "   ...\n",
      "   [1.]\n",
      "   [1.]\n",
      "   [1.]]\n",
      "\n",
      "  [[1.]\n",
      "   [1.]\n",
      "   [1.]\n",
      "   ...\n",
      "   [1.]\n",
      "   [1.]\n",
      "   [1.]]\n",
      "\n",
      "  [[1.]\n",
      "   [1.]\n",
      "   [1.]\n",
      "   ...\n",
      "   [1.]\n",
      "   [1.]\n",
      "   [1.]]]\n",
      "\n",
      "\n",
      " [[[1.]\n",
      "   [1.]\n",
      "   [1.]\n",
      "   ...\n",
      "   [1.]\n",
      "   [1.]\n",
      "   [1.]]\n",
      "\n",
      "  [[1.]\n",
      "   [1.]\n",
      "   [1.]\n",
      "   ...\n",
      "   [1.]\n",
      "   [1.]\n",
      "   [1.]]\n",
      "\n",
      "  [[1.]\n",
      "   [1.]\n",
      "   [1.]\n",
      "   ...\n",
      "   [1.]\n",
      "   [1.]\n",
      "   [1.]]\n",
      "\n",
      "  ...\n",
      "\n",
      "  [[1.]\n",
      "   [1.]\n",
      "   [1.]\n",
      "   ...\n",
      "   [1.]\n",
      "   [1.]\n",
      "   [1.]]\n",
      "\n",
      "  [[1.]\n",
      "   [1.]\n",
      "   [1.]\n",
      "   ...\n",
      "   [1.]\n",
      "   [1.]\n",
      "   [1.]]\n",
      "\n",
      "  [[1.]\n",
      "   [1.]\n",
      "   [1.]\n",
      "   ...\n",
      "   [1.]\n",
      "   [1.]\n",
      "   [1.]]]\n",
      "\n",
      "\n",
      " [[[1.]\n",
      "   [1.]\n",
      "   [1.]\n",
      "   ...\n",
      "   [1.]\n",
      "   [1.]\n",
      "   [1.]]\n",
      "\n",
      "  [[1.]\n",
      "   [1.]\n",
      "   [1.]\n",
      "   ...\n",
      "   [1.]\n",
      "   [1.]\n",
      "   [1.]]\n",
      "\n",
      "  [[1.]\n",
      "   [1.]\n",
      "   [1.]\n",
      "   ...\n",
      "   [1.]\n",
      "   [1.]\n",
      "   [1.]]\n",
      "\n",
      "  ...\n",
      "\n",
      "  [[1.]\n",
      "   [1.]\n",
      "   [1.]\n",
      "   ...\n",
      "   [1.]\n",
      "   [1.]\n",
      "   [1.]]\n",
      "\n",
      "  [[1.]\n",
      "   [1.]\n",
      "   [1.]\n",
      "   ...\n",
      "   [1.]\n",
      "   [1.]\n",
      "   [1.]]\n",
      "\n",
      "  [[1.]\n",
      "   [1.]\n",
      "   [1.]\n",
      "   ...\n",
      "   [1.]\n",
      "   [1.]\n",
      "   [1.]]]\n",
      "\n",
      "\n",
      " [[[1.]\n",
      "   [1.]\n",
      "   [1.]\n",
      "   ...\n",
      "   [1.]\n",
      "   [1.]\n",
      "   [1.]]\n",
      "\n",
      "  [[1.]\n",
      "   [1.]\n",
      "   [1.]\n",
      "   ...\n",
      "   [1.]\n",
      "   [1.]\n",
      "   [1.]]\n",
      "\n",
      "  [[1.]\n",
      "   [1.]\n",
      "   [1.]\n",
      "   ...\n",
      "   [1.]\n",
      "   [1.]\n",
      "   [1.]]\n",
      "\n",
      "  ...\n",
      "\n",
      "  [[1.]\n",
      "   [1.]\n",
      "   [1.]\n",
      "   ...\n",
      "   [1.]\n",
      "   [1.]\n",
      "   [1.]]\n",
      "\n",
      "  [[1.]\n",
      "   [1.]\n",
      "   [1.]\n",
      "   ...\n",
      "   [1.]\n",
      "   [1.]\n",
      "   [1.]]\n",
      "\n",
      "  [[1.]\n",
      "   [1.]\n",
      "   [1.]\n",
      "   ...\n",
      "   [1.]\n",
      "   [1.]\n",
      "   [1.]]]]\n",
      "Após a divisão - X_train shape: (1920, 64, 64, 1)\n",
      "Após a divisão - y_train shape: (1920,)\n",
      "X_val shape: (480, 64, 64, 1)\n",
      "y_val shape: (480,)\n"
     ]
    },
    {
     "name": "stderr",
     "output_type": "stream",
     "text": [
      "\n"
     ]
    }
   ],
   "source": [
    "def load_and_preprocess_image(file_path) -> tf.float32:\n",
    "    \"\"\"\n",
    "        Esta função carrega e pré-processa uma imagem de um arquivo usando TensorFlow. Ela lê o conteúdo do arquivo,\n",
    "            decodifica a imagem em escala de cinza e normaliza os valores dos pixels para o intervalo [0, 1]. A imagem é \n",
    "            então redimensionada para uma forma desejada.\n",
    "        \n",
    "        Args:\n",
    "            - file_path(str): O caminho do arquivo da imagem.\n",
    "        Return:\n",
    "            - imf(tf.float32): Tensoe transformado da imagem.\n",
    "    \"\"\"\n",
    "    # Carregar a imagem e pré-processa\n",
    "    img = tf.io.read_file(file_path)\n",
    "    img = tf.image.decode_png(img, channels=3)\n",
    "    img = tf.image.rgb_to_grayscale(img)\n",
    "\n",
    "    # Normalizar os valores de pixel para o intervalo [0, 1]\n",
    "    img = tf.image.convert_image_dtype(img, tf.float32)\n",
    "\n",
    "    # Redimensionar a imagem para a forma desejada\n",
    "    img = tf.image.resize(img, [64, 64])\n",
    "    \n",
    "    return img\n",
    "\n",
    "def load_and_preprocess_images_from_directory(directory) -> Union[np.array, np.array]:\n",
    "    \"\"\"\n",
    "    Esta função carrega e pré-processa imagens de um diretório usando TensorFlow. Para cada arquivo no diretório,\n",
    "        ela carrega e pré-processa a imagem usando a função load_and_preprocess_image e extrai a label do nome do arquivo.\n",
    "    \n",
    "    Args:\n",
    "        - directory (str): O caminho do diretório contendo as imagens.\n",
    "\n",
    "    Returns:\n",
    "        - np.array(images): imagens processadas.\n",
    "        - np.array(laels): labels associadas a essas imagens.\n",
    "    \"\"\"\n",
    "    images = []\n",
    "    labels = []\n",
    "\n",
    "    # Adicionar informações de depuração\n",
    "    print(f\"Processando imagens para o diretório {directory}...\")\n",
    "\n",
    "    for filename in tqdm(os.listdir(directory)):\n",
    "        img_path = os.path.join(directory, filename)\n",
    "\n",
    "        try:\n",
    "            # Carregar e pré-processando a imagem\n",
    "            img = load_and_preprocess_image(img_path)\n",
    "\n",
    "            # Extrair a label do nome do arquivo\n",
    "            label = int(filename.split('_')[0])\n",
    "\n",
    "            # Adicionar a imagem e a label às listas\n",
    "            images.append(img)\n",
    "            labels.append(label)\n",
    "\n",
    "        except Exception as e:\n",
    "            print(f\"Erro ao processar {img_path}: {str(e)}\")\n",
    "\n",
    "    print(f\"Carregando {len(images)} images.\")\n",
    "    \n",
    "    # Convertendo as listas em arrays numpy\n",
    "    return np.array(images), np.array(labels)\n",
    "\n",
    "# Definir os diretórios dos conjuntos de treinamento, validação e teste\n",
    "train_dir = \"C:\\\\Users\\\\larissa.silva\\\\Documents\\\\UFRN\\\\2023.2\\\\DL\\\\training-spectrograms\"\n",
    "val_dir = \"C:\\\\Users\\\\larissa.silva\\\\Documents\\\\UFRN\\\\2023.2\\\\DL\\\\validation-spectrograms\"\n",
    "test_dir = \"C:\\\\Users\\\\larissa.silva\\\\Documents\\\\UFRN\\\\2023.2\\\\DL\\\\testing-spectrograms\"\n",
    "\n",
    "# Chamar a função que pré-processa as imagens e as separa em: tensor, label.\n",
    "X_train, y_train = load_and_preprocess_images_from_directory(train_dir)\n",
    "X_test, y_test = load_and_preprocess_images_from_directory(train_dir)\n",
    "X_val, y_val = load_and_preprocess_images_from_directory(train_dir)\n",
    "\n",
    "# Adicionar prints para verificar o que está acontecendo\n",
    "print(\"Antes da divisão - X_train shape:\", X_train.shape)\n",
    "print(\"\\nAntes da divisão - y_train shape:\", y_train.shape)\n",
    "\n",
    "# Adicionar um print para verificar os primeiros arquivos no conjunto de treinamento\n",
    "print(\"Primerias imagens no conjunto de treinamento:\", X_train[:5])\n",
    "\n",
    "# Dividiir os dados em treinamento, validação e teste\n",
    "X_train, X_val, y_train, y_val = train_test_split(X_train, y_train, test_size=0.2, random_state=52)\n",
    "\n",
    "# Verifique as formas (shapes) dos seus dados após a divisão\n",
    "print(\"Após a divisão - X_train shape:\", X_train.shape)\n",
    "print(\"\\nApós a divisão - y_train shape:\", y_train.shape)\n",
    "print(\"\\nX_val shape:\", X_val.shape)\n",
    "print(\"\\ny_val shape:\", y_val.shape)\n"
   ]
  },
  {
   "cell_type": "code",
   "execution_count": null,
   "metadata": {},
   "outputs": [],
   "source": [
    "batch_size = 16\n",
    "train_dataset = create_tf_dataset(train_df, batch_size=batch_size, shuffle=True)\n",
    "val_dataset = create_tf_dataset(val_df, batch_size=batch_size, shuffle=False)\n",
    "test_dataset = create_tf_dataset(test_df, batch_size=batch_size, shuffle=False)"
   ]
  },
  {
   "cell_type": "code",
   "execution_count": 244,
   "metadata": {},
   "outputs": [],
   "source": [
    "def create_cnn_model_with_dropout(input_shape, num_classes, dropout_rate=0.3):\n",
    "    \"\"\"\n",
    "        Cria um modelo CNN para treinar os dados obtidos. Contém 3 camadas convolucionais,\n",
    "            com 32, 64 e 128, respectivamente, todos de tamanho 3x3. Em todas as\n",
    "            camadas utiliza-se a ReLU. É aplicada uma operação de pooling em todas as camadas\n",
    "            e um dropout antes da última camada\n",
    "\n",
    "        Args:\n",
    "        - input_shape(int): Dimensões do espectograma.\n",
    "        - num_classes(int): Número de classes na saída.\n",
    "        - dropout_rate(float): Rate de camadas zeradas na camada anterior (padrão: 0.3).\n",
    "        Returns:\n",
    "        - model (tf.keras.models.Model ): Modelo CNN.\n",
    "    \"\"\"\n",
    "    model = models.Sequential()\n",
    "    \n",
    "    # Criar camada convolucional 1\n",
    "    model.add(layers.Conv2D(32, (3, 3), activation='relu', input_shape=input_shape))\n",
    "    model.add(layers.MaxPooling2D((2, 2)))\n",
    "    model.add(layers.Dropout(dropout_rate))\n",
    "    \n",
    "    # Criar camada convolucional 2\n",
    "    model.add(layers.Conv2D(64, (3, 3), activation='relu'))\n",
    "    model.add(layers.MaxPooling2D((2, 2)))\n",
    "    model.add(layers.Dropout(dropout_rate))\n",
    "    \n",
    "    # Criar camada convolucional 3\n",
    "    model.add(layers.Conv2D(128, (3, 3), activation='relu'))\n",
    "    model.add(layers.MaxPooling2D((2, 2)))\n",
    "    model.add(layers.Dropout(dropout_rate))\n",
    "    \n",
    "    # Criar flatten para conectar as camadas convolucionais à camada densa\n",
    "    model.add(layers.Flatten())\n",
    "    \n",
    "    # Criar camada densa 1\n",
    "    model.add(layers.Dense(128, activation='relu'))\n",
    "    model.add(layers.Dropout(dropout_rate))\n",
    "    \n",
    "    # Criar camada de saída\n",
    "    model.add(layers.Dense(num_classes, activation='softmax'))\n",
    "    \n",
    "    return model"
   ]
  },
  {
   "cell_type": "code",
   "execution_count": 245,
   "metadata": {},
   "outputs": [
    {
     "name": "stdout",
     "output_type": "stream",
     "text": [
      "Model: \"sequential_15\"\n",
      "_________________________________________________________________\n",
      " Layer (type)                Output Shape              Param #   \n",
      "=================================================================\n",
      " conv2d_35 (Conv2D)          (None, 62, 62, 32)        320       \n",
      "                                                                 \n",
      " max_pooling2d_35 (MaxPooli  (None, 31, 31, 32)        0         \n",
      " ng2D)                                                           \n",
      "                                                                 \n",
      " dropout_46 (Dropout)        (None, 31, 31, 32)        0         \n",
      "                                                                 \n",
      " conv2d_36 (Conv2D)          (None, 29, 29, 64)        18496     \n",
      "                                                                 \n",
      " max_pooling2d_36 (MaxPooli  (None, 14, 14, 64)        0         \n",
      " ng2D)                                                           \n",
      "                                                                 \n",
      " dropout_47 (Dropout)        (None, 14, 14, 64)        0         \n",
      "                                                                 \n",
      " conv2d_37 (Conv2D)          (None, 12, 12, 128)       73856     \n",
      "                                                                 \n",
      " max_pooling2d_37 (MaxPooli  (None, 6, 6, 128)         0         \n",
      " ng2D)                                                           \n",
      "                                                                 \n",
      " dropout_48 (Dropout)        (None, 6, 6, 128)         0         \n",
      "                                                                 \n",
      " flatten_15 (Flatten)        (None, 4608)              0         \n",
      "                                                                 \n",
      " dense_30 (Dense)            (None, 128)               589952    \n",
      "                                                                 \n",
      " dropout_49 (Dropout)        (None, 128)               0         \n",
      "                                                                 \n",
      " dense_31 (Dense)            (None, 10)                1290      \n",
      "                                                                 \n",
      "=================================================================\n",
      "Total params: 683914 (2.61 MB)\n",
      "Trainable params: 683914 (2.61 MB)\n",
      "Non-trainable params: 0 (0.00 Byte)\n",
      "_________________________________________________________________\n"
     ]
    }
   ],
   "source": [
    "# Definir os parâmetros\n",
    "input_shape = (64, 64, 1)\n",
    "num_classes = 10 # quantidade de classes que quero: 0 a 9 = 10\n",
    "\n",
    "# Criar o modelo\n",
    "model = create_cnn_model_with_dropout(input_shape, num_classes)\n",
    "\n",
    "# Defina o callback EarlyStopping\n",
    "early_stopping = EarlyStopping(monitor='val_loss', patience=3, restore_best_weights=True)\n",
    "\n",
    "# Compilar o modelo\n",
    "# testar: loss='sparse_categorical_crossentropy',\n",
    "model.compile(loss=\"categorical_crossentropy\", optimizer=\"adam\", metrics=[\"accuracy\"])\n",
    "\n",
    "# Resumir do modelo com Dropout\n",
    "model.summary()\n"
   ]
  },
  {
   "cell_type": "code",
   "execution_count": 254,
   "metadata": {},
   "outputs": [
    {
     "name": "stdout",
     "output_type": "stream",
     "text": [
      "Epoch 1/30\n",
      " 1/60 [..............................] - ETA: 6s - loss: 0.0742 - accuracy: 0.9688"
     ]
    },
    {
     "name": "stdout",
     "output_type": "stream",
     "text": [
      "60/60 [==============================] - 10s 162ms/step - loss: 0.1675 - accuracy: 0.9427 - val_loss: 0.0784 - val_accuracy: 0.9771\n",
      "Epoch 2/30\n",
      "60/60 [==============================] - 10s 161ms/step - loss: 0.1490 - accuracy: 0.9484 - val_loss: 0.0952 - val_accuracy: 0.9750\n",
      "Epoch 3/30\n",
      "60/60 [==============================] - 10s 165ms/step - loss: 0.1799 - accuracy: 0.9349 - val_loss: 0.0715 - val_accuracy: 0.9771\n",
      "Epoch 4/30\n",
      "60/60 [==============================] - 10s 165ms/step - loss: 0.1503 - accuracy: 0.9484 - val_loss: 0.0986 - val_accuracy: 0.9708\n",
      "Epoch 5/30\n",
      "60/60 [==============================] - 10s 167ms/step - loss: 0.1391 - accuracy: 0.9516 - val_loss: 0.0825 - val_accuracy: 0.9729\n",
      "Epoch 6/30\n",
      "60/60 [==============================] - 10s 170ms/step - loss: 0.1405 - accuracy: 0.9500 - val_loss: 0.0711 - val_accuracy: 0.9812\n",
      "Epoch 7/30\n",
      "60/60 [==============================] - 10s 164ms/step - loss: 0.1433 - accuracy: 0.9464 - val_loss: 0.0894 - val_accuracy: 0.9792\n",
      "Epoch 8/30\n",
      "60/60 [==============================] - 10s 163ms/step - loss: 0.1230 - accuracy: 0.9594 - val_loss: 0.0680 - val_accuracy: 0.9833\n",
      "Epoch 9/30\n",
      "60/60 [==============================] - 10s 161ms/step - loss: 0.1469 - accuracy: 0.9490 - val_loss: 0.0925 - val_accuracy: 0.9667\n",
      "Epoch 10/30\n",
      "60/60 [==============================] - 10s 160ms/step - loss: 0.1398 - accuracy: 0.9474 - val_loss: 0.0625 - val_accuracy: 0.9812\n",
      "Epoch 11/30\n",
      "60/60 [==============================] - 10s 161ms/step - loss: 0.1329 - accuracy: 0.9536 - val_loss: 0.0716 - val_accuracy: 0.9771\n",
      "Epoch 12/30\n",
      "60/60 [==============================] - 10s 162ms/step - loss: 0.1066 - accuracy: 0.9615 - val_loss: 0.0603 - val_accuracy: 0.9875\n",
      "Epoch 13/30\n",
      "60/60 [==============================] - 10s 162ms/step - loss: 0.1295 - accuracy: 0.9568 - val_loss: 0.0719 - val_accuracy: 0.9750\n",
      "Epoch 14/30\n",
      "60/60 [==============================] - 10s 170ms/step - loss: 0.0978 - accuracy: 0.9646 - val_loss: 0.0616 - val_accuracy: 0.9833\n",
      "Epoch 15/30\n",
      "60/60 [==============================] - 10s 161ms/step - loss: 0.1129 - accuracy: 0.9547 - val_loss: 0.0772 - val_accuracy: 0.9688\n"
     ]
    }
   ],
   "source": [
    "# Converter os rótulos para one-hot encoding\n",
    "y_train_one_hot = to_categorical(y_train, num_classes)\n",
    "y_val_one_hot = to_categorical(y_val, num_classes)\n",
    "y_test_one_hot = to_categorical(y_test, num_classes)\n",
    "\n",
    "# Treinar o modelo\n",
    "history = model.fit(X_train, y_train_one_hot, epochs=30, validation_data=(X_val, y_val_one_hot), callbacks=[early_stopping])"
   ]
  },
  {
   "cell_type": "markdown",
   "metadata": {},
   "source": [
    "### Evaluation"
   ]
  },
  {
   "cell_type": "code",
   "execution_count": 255,
   "metadata": {},
   "outputs": [
    {
     "name": "stdout",
     "output_type": "stream",
     "text": [
      "Test loss: 0.020768120884895325\n",
      "Test accuracy: 0.996666669845581\n",
      "[0 0 0 ... 9 9 9]\n",
      "Test loss (decoded): 0.020768120884895325\n",
      "Test accuracy (decoded): 0.996666669845581\n"
     ]
    }
   ],
   "source": [
    "# Avaliar no conjunto de teste sem codificação one-hot\n",
    "score = model.evaluate(X_test, y_test_one_hot, verbose=0)\n",
    "print('test loss:', score[0])\n",
    "print('Test accuracy:', score[1])\n",
    "\n",
    "# Desfazer a codificação one-hot para os rótulos de teste\n",
    "y_test_decoded = np.argmax(y_test_one_hot, axis=1)\n",
    "print('y_test_decoded)\n",
    "\n",
    "# Avaliar no conjunto de teste com os rótulos descodificados\n",
    "score_decoded = model.evaluate(X_test, to_categorical(y_test_decoded, num_classes), verbose=0)\n",
    "print('Test loss (decoded):', score_decoded[0])\n",
    "print('Test accuracy (decoded):', score_decoded[1])\n"
   ]
  },
  {
   "cell_type": "code",
   "execution_count": 252,
   "metadata": {},
   "outputs": [
    {
     "data": {
      "text/plain": [
       "<matplotlib.legend.Legend at 0x14088839fc0>"
      ]
     },
     "execution_count": 252,
     "metadata": {},
     "output_type": "execute_result"
    },
    {
     "data": {
      "image/png": "[encoded data removed]",
      "text/plain": [
       "<Figure size 640x480 with 1 Axes>"
      ]
     },
     "metadata": {},
     "output_type": "display_data"
    },
    {
     "data": {
      "image/png": "[encoded data removed]",
      "text/plain": [
       "<Figure size 640x480 with 1 Axes>"
      ]
     },
     "metadata": {},
     "output_type": "display_data"
    }
   ],
   "source": [
    "plt.figure()\n",
    "plt.plot(history.epoch, history.history['val_loss'], 'o-r', label='Validação')\n",
    "plt.plot(history.epoch, history.history['loss'],',-y', label='Treinamento')\n",
    "plt.title('Curva de aprendizado: Loss CNN')\n",
    "plt.xlabel('Época')\n",
    "plt.ylabel('Erro')\n",
    "plt.legend()\n",
    "\n",
    "plt.figure()\n",
    "plt.plot(history.epoch, history.history['val_accuracy'], 'o-r', label='Validação')\n",
    "plt.plot(history.epoch, history.history['accuracy'],',-y', label='Treinamento')\n",
    "plt.title('Curva de aprendizado: Acurácia CNN')\n",
    "plt.xlabel('Época')\n",
    "plt.ylabel('Acurácia')\n",
    "plt.legend()\n"
   ]
  },
  {
   "cell_type": "markdown",
   "metadata": {},
   "source": [
    "### Testing"
   ]
  },
  {
   "cell_type": "code",
   "execution_count": 256,
   "metadata": {},
   "outputs": [
    {
     "name": "stdout",
     "output_type": "stream",
     "text": [
      "75/75 [==============================] - 2s 32ms/step - loss: 0.0208 - accuracy: 0.9967\n",
      "Test Loss: 0.020768120884895325\n",
      "Test Accuracy: 0.996666669845581\n",
      "75/75 [==============================] - 5s 62ms/step\n"
     ]
    },
    {
     "data": {
      "image/png": "[encoded data removed]",
      "text/plain": [
       "<Figure size 800x600 with 2 Axes>"
      ]
     },
     "metadata": {},
     "output_type": "display_data"
    }
   ],
   "source": [
    "# Avaliar no conjunto de teste\n",
    "score = model.evaluate(X_test, y_test_one_hot)\n",
    "print('Test Loss:', score[0])\n",
    "print(\"Test Accuracy:\", score[1])\n",
    "\n",
    "# Predizer no conjunto de teste\n",
    "y_pred = model.predict(X_test)\n",
    "predicted_labels = np.argmax(y_pred, axis=-1)\n",
    "y_test_decoded = np.argmax(y_test_one_hot, axis=-1)\n",
    "\n",
    "# Certificar de que y_test_decoded e predicted_labels têm o mesmo tamanho\n",
    "min_size = min(len(y_test_decoded), len(predicted_labels))\n",
    "y_test_decoded = y_test_decoded[:min_size]\n",
    "predicted_labels = predicted_labels[:min_size]\n",
    "\n",
    "# Gerar matriz de Confusão\n",
    "conf = confusion_matrix(y_test_decoded, predicted_labels)\n",
    "\n",
    "# Normalizar as colunas da matriz de confusão para melhor visualização das proporções\n",
    "conf_norm = conf.astype('float') / conf.sum(axis=1)[:, np.newaxis]\n",
    "\n",
    "# Visualizar a Matriz de Confusão\n",
    "plt.figure(figsize=(8, 6))\n",
    "sns.heatmap(conf_norm, annot=True, fmt='.2f', cmap='Blues')\n",
    "plt.xlabel('Predito')\n",
    "plt.ylabel('Rótulo')\n",
    "plt.title('Matriz de Confusão da base FSDD (Normalizada)')\n",
    "plt.show()"
   ]
  }
 ],
 "metadata": {
  "kernelspec": {
   "display_name": "vm",
   "language": "python",
   "name": "python3"
  },
  "language_info": {
   "codemirror_mode": {
    "name": "ipython",
    "version": 3
   },
   "file_extension": ".py",
   "mimetype": "text/x-python",
   "name": "python",
   "nbconvert_exporter": "python",
   "pygments_lexer": "ipython3",
   "version": "3.10.8"
  },
  "orig_nbformat": 4
 },
 "nbformat": 4,
 "nbformat_minor": 2
}
